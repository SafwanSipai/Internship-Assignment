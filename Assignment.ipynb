{
 "cells": [
  {
   "cell_type": "code",
   "execution_count": 2,
   "id": "ccd67618",
   "metadata": {},
   "outputs": [
    {
     "name": "stdout",
     "output_type": "stream",
     "text": [
      "Requirement already satisfied: easyocr in c:\\users\\lenovo\\anaconda3\\lib\\site-packages (1.4.2)\n",
      "Requirement already satisfied: torch in c:\\users\\lenovo\\anaconda3\\lib\\site-packages (from easyocr) (1.11.0)\n",
      "Requirement already satisfied: Pillow in c:\\users\\lenovo\\anaconda3\\lib\\site-packages (from easyocr) (8.2.0)\n",
      "Requirement already satisfied: PyYAML in c:\\users\\lenovo\\anaconda3\\lib\\site-packages (from easyocr) (5.4.1)\n",
      "Requirement already satisfied: opencv-python-headless<=4.5.4.60 in c:\\users\\lenovo\\anaconda3\\lib\\site-packages (from easyocr) (4.5.4.60)\n",
      "Requirement already satisfied: scipy in c:\\users\\lenovo\\anaconda3\\lib\\site-packages (from easyocr) (1.6.2)\n",
      "Requirement already satisfied: python-bidi in c:\\users\\lenovo\\anaconda3\\lib\\site-packages (from easyocr) (0.4.2)\n",
      "Requirement already satisfied: scikit-image in c:\\users\\lenovo\\anaconda3\\lib\\site-packages (from easyocr) (0.18.1)\n",
      "Requirement already satisfied: numpy in c:\\users\\lenovo\\anaconda3\\lib\\site-packages (from easyocr) (1.20.1)\n",
      "Requirement already satisfied: torchvision>=0.5 in c:\\users\\lenovo\\anaconda3\\lib\\site-packages (from easyocr) (0.12.0)\n",
      "Requirement already satisfied: requests in c:\\users\\lenovo\\anaconda3\\lib\\site-packages (from torchvision>=0.5->easyocr) (2.25.1)\n",
      "Requirement already satisfied: typing-extensions in c:\\users\\lenovo\\anaconda3\\lib\\site-packages (from torchvision>=0.5->easyocr) (3.7.4.3)\n",
      "Requirement already satisfied: six in c:\\users\\lenovo\\anaconda3\\lib\\site-packages (from python-bidi->easyocr) (1.15.0)\n",
      "Requirement already satisfied: idna<3,>=2.5 in c:\\users\\lenovo\\anaconda3\\lib\\site-packages (from requests->torchvision>=0.5->easyocr) (2.10)\n",
      "Requirement already satisfied: chardet<5,>=3.0.2 in c:\\users\\lenovo\\anaconda3\\lib\\site-packages (from requests->torchvision>=0.5->easyocr) (4.0.0)\n",
      "Requirement already satisfied: urllib3<1.27,>=1.21.1 in c:\\users\\lenovo\\anaconda3\\lib\\site-packages (from requests->torchvision>=0.5->easyocr) (1.26.4)\n",
      "Requirement already satisfied: certifi>=2017.4.17 in c:\\users\\lenovo\\anaconda3\\lib\\site-packages (from requests->torchvision>=0.5->easyocr) (2020.12.5)\n",
      "Requirement already satisfied: matplotlib!=3.0.0,>=2.0.0 in c:\\users\\lenovo\\anaconda3\\lib\\site-packages (from scikit-image->easyocr) (3.3.4)\n",
      "Requirement already satisfied: networkx>=2.0 in c:\\users\\lenovo\\anaconda3\\lib\\site-packages (from scikit-image->easyocr) (2.5)\n",
      "Requirement already satisfied: imageio>=2.3.0 in c:\\users\\lenovo\\anaconda3\\lib\\site-packages (from scikit-image->easyocr) (2.9.0)\n",
      "Requirement already satisfied: tifffile>=2019.7.26 in c:\\users\\lenovo\\anaconda3\\lib\\site-packages (from scikit-image->easyocr) (2021.4.8)\n",
      "Requirement already satisfied: PyWavelets>=1.1.1 in c:\\users\\lenovo\\anaconda3\\lib\\site-packages (from scikit-image->easyocr) (1.1.1)\n",
      "Requirement already satisfied: python-dateutil>=2.1 in c:\\users\\lenovo\\anaconda3\\lib\\site-packages (from matplotlib!=3.0.0,>=2.0.0->scikit-image->easyocr) (2.8.1)\n",
      "Requirement already satisfied: kiwisolver>=1.0.1 in c:\\users\\lenovo\\anaconda3\\lib\\site-packages (from matplotlib!=3.0.0,>=2.0.0->scikit-image->easyocr) (1.3.1)\n",
      "Requirement already satisfied: pyparsing!=2.0.4,!=2.1.2,!=2.1.6,>=2.0.3 in c:\\users\\lenovo\\anaconda3\\lib\\site-packages (from matplotlib!=3.0.0,>=2.0.0->scikit-image->easyocr) (2.4.7)\n",
      "Requirement already satisfied: cycler>=0.10 in c:\\users\\lenovo\\anaconda3\\lib\\site-packages (from matplotlib!=3.0.0,>=2.0.0->scikit-image->easyocr) (0.10.0)\n",
      "Requirement already satisfied: decorator>=4.3.0 in c:\\users\\lenovo\\anaconda3\\lib\\site-packages (from networkx>=2.0->scikit-image->easyocr) (5.0.6)\n"
     ]
    }
   ],
   "source": [
    "!pip install easyocr"
   ]
  },
  {
   "cell_type": "code",
   "execution_count": 2,
   "id": "cd2ad5d3",
   "metadata": {},
   "outputs": [],
   "source": [
    "import os\n",
    "\n",
    "os.environ['KMP_DUPLICATE_LIB_OK']='True'"
   ]
  },
  {
   "cell_type": "code",
   "execution_count": 55,
   "id": "1bff15a4",
   "metadata": {},
   "outputs": [
    {
     "name": "stderr",
     "output_type": "stream",
     "text": [
      "CUDA not available - defaulting to CPU. Note: This module is much faster with a GPU.\n"
     ]
    },
    {
     "name": "stdout",
     "output_type": "stream",
     "text": [
      "IND\n",
      "6JO3ER0563\n",
      "IND\n",
      "6JO3ERO563\n"
     ]
    }
   ],
   "source": [
    "import easyocr, cv2\n",
    "\n",
    "reader = easyocr.Reader(['en'])\n",
    "img = cv2.imread('plates.jpg')\n",
    "text = reader.readtext(img)\n",
    "for i in text:\n",
    "    print(i[1])"
   ]
  },
  {
   "cell_type": "markdown",
   "id": "64b752aa",
   "metadata": {},
   "source": [
    "### Histogram Equalization"
   ]
  },
  {
   "cell_type": "code",
   "execution_count": 40,
   "id": "2268e35d",
   "metadata": {},
   "outputs": [
    {
     "name": "stdout",
     "output_type": "stream",
     "text": [
      "GJOJER0563\n",
      "6JOJER0563\n"
     ]
    }
   ],
   "source": [
    "import cv2\n",
    "img = cv2.imread('plates.jpg', 0)\n",
    "\n",
    "eqImg = cv2.equalizeHist(img)\n",
    "\n",
    "text = reader.readtext(eqImg)\n",
    "for i in text:\n",
    "    print(i[1])"
   ]
  },
  {
   "cell_type": "code",
   "execution_count": 41,
   "id": "41ab8c80",
   "metadata": {},
   "outputs": [
    {
     "name": "stdout",
     "output_type": "stream",
     "text": [
      "IND\n",
      "6JO3ERO563\n",
      "IND\n",
      "6JO3ERO563\n"
     ]
    }
   ],
   "source": [
    "img = cv2.imread('plates.jpg', 0)\n",
    "\n",
    "text = reader.readtext(img)\n",
    "for i in text:\n",
    "    print(i[1])"
   ]
  },
  {
   "cell_type": "markdown",
   "id": "3e8bbcc7",
   "metadata": {},
   "source": [
    "### CLAHE"
   ]
  },
  {
   "cell_type": "code",
   "execution_count": 52,
   "id": "6f540589",
   "metadata": {},
   "outputs": [
    {
     "name": "stdout",
     "output_type": "stream",
     "text": [
      "GJO3ER0563\n",
      "6JOJER0563\n"
     ]
    }
   ],
   "source": [
    "clahe = cv2.createCLAHE()\n",
    "output = clahe.apply(eqImg)\n",
    "\n",
    "text = reader.readtext(output)\n",
    "for i in text:\n",
    "    print(i[1])"
   ]
  },
  {
   "cell_type": "markdown",
   "id": "8165dc32",
   "metadata": {},
   "source": [
    "### Thresholding"
   ]
  },
  {
   "cell_type": "code",
   "execution_count": 64,
   "id": "5edefe50",
   "metadata": {},
   "outputs": [
    {
     "name": "stdout",
     "output_type": "stream",
     "text": [
      "IND\n",
      "GJO3ERO563\n",
      "IND\n",
      "GJO3ERO563\n"
     ]
    }
   ],
   "source": [
    "img = cv2.imread('plates.jpg', 0)\n",
    "ret, output = cv2.threshold(img, 140, 255, cv2.THRESH_BINARY)\n",
    "\n",
    "text = reader.readtext(output)\n",
    "for i in text:\n",
    "    print(i[1])"
   ]
  },
  {
   "cell_type": "code",
   "execution_count": null,
   "id": "36254303",
   "metadata": {},
   "outputs": [],
   "source": []
  }
 ],
 "metadata": {
  "kernelspec": {
   "display_name": "Python 3",
   "language": "python",
   "name": "python3"
  },
  "language_info": {
   "codemirror_mode": {
    "name": "ipython",
    "version": 3
   },
   "file_extension": ".py",
   "mimetype": "text/x-python",
   "name": "python",
   "nbconvert_exporter": "python",
   "pygments_lexer": "ipython3",
   "version": "3.8.8"
  }
 },
 "nbformat": 4,
 "nbformat_minor": 5
}
